{
 "cells": [
  {
   "cell_type": "code",
   "execution_count": 3,
   "id": "bf763154-0785-407d-8a4f-ab500519ca19",
   "metadata": {},
   "outputs": [
    {
     "name": "stdout",
     "output_type": "stream",
     "text": [
      "[Errno 2] No such file or directory: 'MiniGPT-4/'\n",
      "/home/jupyter/opthollm/MiniGPT-4\n",
      "Initializing Chat\n",
      "Loading VIT\n",
      "Loading VIT Done\n",
      "Loading Q-Former\n",
      "Loading Q-Former Done\n",
      "Loading LLAMA\n",
      "\n",
      "===================================BUG REPORT===================================\n",
      "Welcome to bitsandbytes. For bug reports, please submit your error trace to: https://github.com/TimDettmers/bitsandbytes/issues\n",
      "================================================================================\n",
      "Loading checkpoint shards: 100%|██████████████████| 3/3 [00:17<00:00,  5.95s/it]\n",
      "Loading LLAMA Done\n",
      "Load 4 training prompts\n",
      "Prompt Example \n",
      "###Human: <Img><ImageHere></Img> Take a look at this image and describe what you notice. ###Assistant: \n",
      "Load BLIP2-LLM Checkpoint: pretrained_minigpt4.pth\n",
      "Initialization Finished\n",
      "\n",
      "Thanks for being a Gradio user! If you have questions or feedback, please join our Discord server and chat with us: https://discord.gg/feTf9x3ZSB\n",
      "Running on local URL:  http://127.0.0.1:7860\n",
      "Running on public URL: https://f62062765ca668f3ae.gradio.live\n",
      "\n",
      "This share link expires in 72 hours. For free permanent hosting and GPU upgrades (NEW!), check out Spaces: https://huggingface.co/spaces\n",
      "^C\n",
      "Keyboard interruption in main thread... closing server.\n",
      "Killing tunnel 127.0.0.1:7860 <> https://f62062765ca668f3ae.gradio.live\n"
     ]
    }
   ],
   "source": [
    "%cd MiniGPT-4/\n",
    "!python demo_old.py --cfg-path eval_configs/minigpt4_eval.yaml --gpu-id 0"
   ]
  },
  {
   "cell_type": "code",
   "execution_count": null,
   "id": "7ad98e29-4645-4cc9-af26-90665d2f4d15",
   "metadata": {},
   "outputs": [
    {
     "name": "stdout",
     "output_type": "stream",
     "text": [
      "[Errno 2] No such file or directory: 'MiniGPT-4/'\n",
      "/home/jupyter/opthollm/MiniGPT-4\n",
      "Initializing Chat\n",
      "Loading VIT\n",
      "Loading VIT Done\n",
      "Loading Q-Former\n",
      "Loading Q-Former Done\n",
      "Loading LLAMA\n",
      "\n",
      "===================================BUG REPORT===================================\n",
      "Welcome to bitsandbytes. For bug reports, please submit your error trace to: https://github.com/TimDettmers/bitsandbytes/issues\n",
      "================================================================================\n",
      "Loading checkpoint shards: 100%|██████████████████| 3/3 [00:17<00:00,  5.95s/it]\n",
      "Loading LLAMA Done\n",
      "Load 4 training prompts\n",
      "Prompt Example \n",
      "###Human: <Img><ImageHere></Img> Describe this image in detail. ###Assistant: \n",
      "Load BLIP2-LLM Checkpoint: pretrained_minigpt4.pth\n",
      "Initialization Finished\n",
      "/opt/conda/lib/python3.10/site-packages/gradio/components.py:164: UserWarning: Unknown style parameter: rows\n",
      "  warnings.warn(f\"Unknown style parameter: {key}\")\n",
      "/opt/conda/lib/python3.10/site-packages/gradio/components.py:164: UserWarning: Unknown style parameter: object_fit\n",
      "  warnings.warn(f\"Unknown style parameter: {key}\")\n",
      "Running on local URL:  http://127.0.0.1:7860\n",
      "Running on public URL: https://cf21f64dc01f05f1c0.gradio.live\n",
      "\n",
      "This share link expires in 72 hours. For free permanent hosting and GPU upgrades (NEW!), check out Spaces: https://huggingface.co/spaces\n"
     ]
    }
   ],
   "source": [
    "%cd MiniGPT-4/\n",
    "!python imgtest_demo.py --cfg-path eval_configs/minigpt4_eval.yaml --gpu-id 0"
   ]
  },
  {
   "cell_type": "code",
   "execution_count": null,
   "id": "766d2cea-60fe-4244-9db2-f7fe8d5553dd",
   "metadata": {},
   "outputs": [
    {
     "name": "stdout",
     "output_type": "stream",
     "text": [
      "/home/jupyter/opthollm/MiniGPT-4\n",
      "Initializing Chat\n",
      "Loading VIT\n",
      "Loading VIT Done\n",
      "Loading Q-Former\n",
      "Loading Q-Former Done\n",
      "Loading LLAMA\n",
      "\n",
      "===================================BUG REPORT===================================\n",
      "Welcome to bitsandbytes. For bug reports, please submit your error trace to: https://github.com/TimDettmers/bitsandbytes/issues\n",
      "================================================================================\n",
      "Loading checkpoint shards: 100%|██████████████████| 3/3 [04:39<00:00, 93.09s/it]\n",
      "Loading LLAMA Done\n",
      "Load 4 training prompts\n",
      "Prompt Example \n",
      "###Human: <Img><ImageHere></Img> Please provide a detailed description of the picture. ###Assistant: \n",
      "Load BLIP2-LLM Checkpoint: pretrained_minigpt4.pth\n",
      "Initialization Finished\n",
      "/opt/conda/lib/python3.10/site-packages/gradio/components.py:164: UserWarning: Unknown style parameter: rows\n",
      "  warnings.warn(f\"Unknown style parameter: {key}\")\n",
      "/opt/conda/lib/python3.10/site-packages/gradio/components.py:164: UserWarning: Unknown style parameter: object_fit\n",
      "  warnings.warn(f\"Unknown style parameter: {key}\")\n",
      "Running on local URL:  http://127.0.0.1:7860\n",
      "Running on public URL: https://bdbe822247446ce8de.gradio.live\n",
      "\n",
      "This share link expires in 72 hours. For free permanent hosting and GPU upgrades (NEW!), check out Spaces: https://huggingface.co/spaces\n"
     ]
    }
   ],
   "source": [
    "%cd MiniGPT-4/\n",
    "!python few_shot_learning_demo.py --cfg-path eval_configs/minigpt4_eval.yaml --gpu-id 0"
   ]
  },
  {
   "cell_type": "code",
   "execution_count": 4,
   "id": "3e051be2-c82b-4de6-ab54-763799c5c87d",
   "metadata": {},
   "outputs": [
    {
     "name": "stdout",
     "output_type": "stream",
     "text": [
      "[Errno 2] No such file or directory: 'opthollm/'\n",
      "/home/jupyter/opthollm/MiniGPT-4\n",
      "[Errno 2] No such file or directory: 'MiniGPT-4/'\n",
      "/home/jupyter/opthollm/MiniGPT-4\n",
      "^C\n",
      "Traceback (most recent call last):\n",
      "  File \"/home/jupyter/opthollm/MiniGPT-4/cli_imgtest_demo.py\", line 8, in <module>\n",
      "    import gradio as gr\n",
      "  File \"/opt/conda/lib/python3.10/site-packages/gradio/__init__.py\", line 3, in <module>\n",
      "    import gradio.components as components\n",
      "  File \"/opt/conda/lib/python3.10/site-packages/gradio/components.py\", line 34, in <module>\n",
      "    from gradio_client import utils as client_utils\n",
      "  File \"/opt/conda/lib/python3.10/site-packages/gradio_client/__init__.py\", line 1, in <module>\n",
      "    from gradio_client.client import Client\n",
      "  File \"/opt/conda/lib/python3.10/site-packages/gradio_client/client.py\", line 18, in <module>\n",
      "    from huggingface_hub.utils import build_hf_headers, send_telemetry\n",
      "  File \"/opt/conda/lib/python3.10/site-packages/huggingface_hub/utils/__init__.py\", line 20, in <module>\n",
      "    from ._cache_manager import (\n",
      "  File \"/opt/conda/lib/python3.10/site-packages/huggingface_hub/utils/_cache_manager.py\", line 49, in <module>\n",
      "    class CachedFileInfo:\n",
      "  File \"/opt/conda/lib/python3.10/site-packages/huggingface_hub/utils/_cache_manager.py\", line 106, in CachedFileInfo\n",
      "    def size_on_disk_str(self) -> str:\n",
      "KeyboardInterrupt\n"
     ]
    }
   ],
   "source": [
    "%cd opthollm/\n",
    "%cd MiniGPT-4/\n",
    "!python cli_imgtest_demo.py --cfg-path eval_configs/minigpt4_eval.yaml --gpu-id 0"
   ]
  },
  {
   "cell_type": "code",
   "execution_count": null,
   "id": "4f8ab52c-3461-4edf-ada8-226673119dbc",
   "metadata": {},
   "outputs": [],
   "source": []
  }
 ],
 "metadata": {
  "environment": {
   "kernel": "python3",
   "name": "pytorch-gpu.1-13.m109",
   "type": "gcloud",
   "uri": "gcr.io/deeplearning-platform-release/pytorch-gpu.1-13:m109"
  },
  "kernelspec": {
   "display_name": "Python 3",
   "language": "python",
   "name": "python3"
  },
  "language_info": {
   "codemirror_mode": {
    "name": "ipython",
    "version": 3
   },
   "file_extension": ".py",
   "mimetype": "text/x-python",
   "name": "python",
   "nbconvert_exporter": "python",
   "pygments_lexer": "ipython3",
   "version": "3.10.11"
  }
 },
 "nbformat": 4,
 "nbformat_minor": 5
}
