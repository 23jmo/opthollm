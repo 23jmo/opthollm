{
 "cells": [
  {
   "cell_type": "code",
   "execution_count": 1,
   "id": "37d8dce4-da03-436b-91d5-2c160f9941bb",
   "metadata": {},
   "outputs": [
    {
     "name": "stdout",
     "output_type": "stream",
     "text": [
      "Cloning into 'MiniGPT-4'...\n",
      "remote: Enumerating objects: 295, done.\u001b[K\n",
      "remote: Counting objects: 100% (157/157), done.\u001b[K\n",
      "remote: Compressing objects: 100% (61/61), done.\u001b[K\n",
      "remote: Total 295 (delta 113), reused 97 (delta 96), pack-reused 138\u001b[K\n",
      "Receiving objects: 100% (295/295), 45.35 MiB | 29.17 MiB/s, done.\n",
      "Resolving deltas: 100% (130/130), done.\n"
     ]
    }
   ],
   "source": [
    "!git clone https://github.com/ifsheldon/MiniGPT-4.git"
   ]
  },
  {
   "cell_type": "code",
   "execution_count": 2,
   "id": "384abd50-2b19-42f9-adad-bd64d962d827",
   "metadata": {},
   "outputs": [
    {
     "name": "stdout",
     "output_type": "stream",
     "text": [
      "/home/jupyter/MiniGPT-4\n"
     ]
    }
   ],
   "source": [
    "%cd MiniGPT-4/"
   ]
  },
  {
   "cell_type": "code",
   "execution_count": 7,
   "id": "13ffead8-a50e-44ac-ad34-79d98495ab65",
   "metadata": {},
   "outputs": [
    {
     "name": "stdout",
     "output_type": "stream",
     "text": [
      "\u001b[31mERROR: pip's dependency resolver does not currently take into account all the packages that are installed. This behaviour is the source of the following dependency conflicts.\n",
      "salesforce-lavis 1.0.2 requires timm==0.4.12, but you have timm 0.6.13 which is incompatible.\n",
      "salesforce-lavis 1.0.2 requires transformers<4.27,>=4.25.0, but you have transformers 4.28.0 which is incompatible.\u001b[0m\u001b[31m\n",
      "\u001b[0m"
     ]
    }
   ],
   "source": [
    "!pip install -qr requirements.txt"
   ]
  },
  {
   "cell_type": "code",
   "execution_count": 4,
   "id": "949b7624-cb46-45e1-bf17-8e28bdc0c5aa",
   "metadata": {},
   "outputs": [],
   "source": [
    "!pip install -q salesforce-lavis\n",
    "!pip install -q bitsandbytes\n",
    "!pip install -q accelerate\n",
    "!pip install -q gradio==3.27.0"
   ]
  },
  {
   "cell_type": "code",
   "execution_count": 5,
   "id": "aac87bae-a943-406c-9d4e-d30cd4deddbe",
   "metadata": {},
   "outputs": [
    {
     "name": "stdout",
     "output_type": "stream",
     "text": [
      "\u001b[31mERROR: pip's dependency resolver does not currently take into account all the packages that are installed. This behaviour is the source of the following dependency conflicts.\n",
      "salesforce-lavis 1.0.2 requires transformers<4.27,>=4.25.0, but you have transformers 4.31.0.dev0 which is incompatible.\u001b[0m\u001b[31m\n",
      "\u001b[0m"
     ]
    }
   ],
   "source": [
    "!pip install -q h5py\n",
    "!pip install -q typing-extensions\n",
    "!pip install -q wheel\n",
    "!pip install -q git+https://github.com/huggingface/transformers.git -U"
   ]
  },
  {
   "cell_type": "code",
   "execution_count": 9,
   "id": "4f078cd8-2fc6-49ea-8743-e4031ad665f9",
   "metadata": {},
   "outputs": [
    {
     "name": "stdout",
     "output_type": "stream",
     "text": [
      "Initializing Chat\n",
      "Loading VIT\n",
      "Loading VIT Done\n",
      "Loading Q-Former\n",
      "Loading Q-Former Done\n",
      "Loading LLAMA\n",
      "\n",
      "===================================BUG REPORT===================================\n",
      "Welcome to bitsandbytes. For bug reports, please submit your error trace to: https://github.com/TimDettmers/bitsandbytes/issues\n",
      "================================================================================\n",
      "Loading checkpoint shards: 100%|██████████████████| 3/3 [00:18<00:00,  6.15s/it]\n",
      "Loading LLAMA Done\n",
      "Load 4 training prompts\n",
      "Prompt Example \n",
      "###Human: <Img><ImageHere></Img> Could you describe the contents of this image for me? ###Assistant: \n",
      "Load BLIP2-LLM Checkpoint: pretrained_minigpt4.pth\n",
      "Initialization Finished\n",
      "/opt/conda/lib/python3.10/site-packages/gradio/components.py:164: UserWarning: Unknown style parameter: rows\n",
      "  warnings.warn(f\"Unknown style parameter: {key}\")\n",
      "/opt/conda/lib/python3.10/site-packages/gradio/components.py:164: UserWarning: Unknown style parameter: object_fit\n",
      "  warnings.warn(f\"Unknown style parameter: {key}\")\n",
      "Running on local URL:  http://127.0.0.1:7860\n",
      "Running on public URL: https://ef5a54fb98b3565d1f.gradio.live\n",
      "\n",
      "This share link expires in 72 hours. For free permanent hosting and GPU upgrades (NEW!), check out Spaces: https://huggingface.co/spaces\n",
      "^C\n",
      "Keyboard interruption in main thread... closing server.\n",
      "Killing tunnel 127.0.0.1:7860 <> https://ef5a54fb98b3565d1f.gradio.live\n"
     ]
    }
   ],
   "source": [
    "!python demo.py --cfg-path eval_configs/minigpt4_eval.yaml --gpu-id 0"
   ]
  },
  {
   "cell_type": "code",
   "execution_count": null,
   "id": "3497c872-1813-4464-8f61-d5b12fd4b183",
   "metadata": {},
   "outputs": [],
   "source": []
  }
 ],
 "metadata": {
  "environment": {
   "kernel": "python3",
   "name": "pytorch-gpu.1-13.m109",
   "type": "gcloud",
   "uri": "gcr.io/deeplearning-platform-release/pytorch-gpu.1-13:m109"
  },
  "kernelspec": {
   "display_name": "Python 3",
   "language": "python",
   "name": "python3"
  },
  "language_info": {
   "codemirror_mode": {
    "name": "ipython",
    "version": 3
   },
   "file_extension": ".py",
   "mimetype": "text/x-python",
   "name": "python",
   "nbconvert_exporter": "python",
   "pygments_lexer": "ipython3",
   "version": "3.10.11"
  }
 },
 "nbformat": 4,
 "nbformat_minor": 5
}
